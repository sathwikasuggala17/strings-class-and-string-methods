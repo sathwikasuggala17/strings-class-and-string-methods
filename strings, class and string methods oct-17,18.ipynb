{
 "cells": [
  {
   "cell_type": "markdown",
   "id": "e296e9fa",
   "metadata": {},
   "source": [
    "# strings\n",
    "* A String is a data structure in Python that represents a sequence of characters. It is an immutable data type, meaning that once you have created a string, you cannot change it. Strings are used widely in many different applications, such as storing and manipulating text data, representing names, addresses, and other types of data that can be represented as text."
   ]
  },
  {
   "cell_type": "code",
   "execution_count": 1,
   "id": "31ec06a8",
   "metadata": {},
   "outputs": [
    {
     "data": {
      "text/plain": [
       "6"
      ]
     },
     "execution_count": 1,
     "metadata": {},
     "output_type": "execute_result"
    }
   ],
   "source": [
    "a=5\n",
    "a= a+1\n",
    "a"
   ]
  },
  {
   "cell_type": "code",
   "execution_count": 3,
   "id": "598d986e",
   "metadata": {},
   "outputs": [
    {
     "data": {
      "text/plain": [
       "2"
      ]
     },
     "execution_count": 3,
     "metadata": {},
     "output_type": "execute_result"
    }
   ],
   "source": [
    "a=5\n",
    "a//=2\n",
    "a"
   ]
  },
  {
   "cell_type": "code",
   "execution_count": 4,
   "id": "d87a1c82",
   "metadata": {},
   "outputs": [
    {
     "data": {
      "text/plain": [
       "0"
      ]
     },
     "execution_count": 4,
     "metadata": {},
     "output_type": "execute_result"
    }
   ],
   "source": [
    "a = 5\n",
    "a &= 2\n",
    "a"
   ]
  },
  {
   "cell_type": "code",
   "execution_count": 5,
   "id": "061b094e",
   "metadata": {},
   "outputs": [
    {
     "data": {
      "text/plain": [
       "20"
      ]
     },
     "execution_count": 5,
     "metadata": {},
     "output_type": "execute_result"
    }
   ],
   "source": [
    "a = 5\n",
    "a<<=2\n",
    "a"
   ]
  },
  {
   "cell_type": "code",
   "execution_count": 6,
   "id": "9ebc26f1",
   "metadata": {},
   "outputs": [
    {
     "data": {
      "text/plain": [
       "1"
      ]
     },
     "execution_count": 6,
     "metadata": {},
     "output_type": "execute_result"
    }
   ],
   "source": [
    "a = 5\n",
    "a >>=2\n",
    "a"
   ]
  },
  {
   "cell_type": "code",
   "execution_count": 8,
   "id": "02d74ce4",
   "metadata": {},
   "outputs": [
    {
     "data": {
      "text/plain": [
       "1"
      ]
     },
     "execution_count": 8,
     "metadata": {},
     "output_type": "execute_result"
    }
   ],
   "source": [
    "a = 5\n",
    "a %= 2\n",
    "a"
   ]
  },
  {
   "cell_type": "markdown",
   "id": "33dfbcb9",
   "metadata": {},
   "source": [
    "### creating a strings\n",
    "* strings are 'char or a seq of chars, enclosed in quotes' (single,double,triple-single or triple-double quotes) (''), (\"\"). (''' ''').\n",
    "* triple-quotes are used as multiline strings,multiline comments and as doc strings.\n",
    "* it is an immutable data type, which means once a string is created, it cannot be modified.\n",
    "* however, it is possible to create a new string by concatenating two or more strings.\n"
   ]
  },
  {
   "cell_type": "code",
   "execution_count": 10,
   "id": "56f428ac",
   "metadata": {},
   "outputs": [
    {
     "name": "stdout",
     "output_type": "stream",
     "text": [
      "this is a string, enclosed in single quotes\n",
      "this is a string, enclosed in single quotes\n",
      "this is a multi-string,\n",
      "enclosed in triple single quotes\n"
     ]
    },
    {
     "data": {
      "text/plain": [
       "'\" this is an informative\\nmulti-line comment,\\ncreated by using triple double quotes '"
      ]
     },
     "execution_count": 10,
     "metadata": {},
     "output_type": "execute_result"
    }
   ],
   "source": [
    "#creating a string\n",
    "s1 = 'this is a string, enclosed in single quotes'\n",
    "s2 = \"this is a string, enclosed in single quotes\"\n",
    "s3 = '''this is a multi-string,\n",
    "enclosed in triple single quotes'''\n",
    "print (s1,s2,s3,sep='\\n')\n",
    "\"\"\"\" this is an informative\n",
    "multi-line comment,\n",
    "created by using triple double quotes \"\"\"\n"
   ]
  },
  {
   "cell_type": "markdown",
   "id": "840bbca0",
   "metadata": {},
   "source": [
    "### escaping character\n",
    "* (\")= used as an escaping character instead of using (')\n",
    "* While printing Strings with single and double quotes in it causes Syntax Error because String already contains Single and Double Quotes and hence cannot be printed with the use of either of these. Hence, to print such a String either Triple Quotes are used or Escape sequences are used to print Strings.\n",
    "* Escape sequences start with a backslash and can be interpreted differently. If single quotes are used to represent a string, then all the single quotes present in the string must be escaped and the same is done for Double Quotes."
   ]
  },
  {
   "cell_type": "code",
   "execution_count": 11,
   "id": "b9b0eb78",
   "metadata": {},
   "outputs": [
    {
     "data": {
      "text/plain": [
       "\"this cup now belong's to INDIA\""
      ]
     },
     "execution_count": 11,
     "metadata": {},
     "output_type": "execute_result"
    }
   ],
   "source": [
    "a = \"this cup now belong's to INDIA\"\n",
    "a"
   ]
  },
  {
   "cell_type": "code",
   "execution_count": 9,
   "id": "3f69f6d0",
   "metadata": {},
   "outputs": [
    {
     "name": "stdout",
     "output_type": "stream",
     "text": [
      "this cup now belong's to INDIA\n"
     ]
    },
    {
     "data": {
      "text/plain": [
       "\"this cup now belong's to INDIA\""
      ]
     },
     "execution_count": 9,
     "metadata": {},
     "output_type": "execute_result"
    }
   ],
   "source": [
    "# compiler error \n",
    "a = \"this cup now belong's to INDIA\"\n",
    "print (a)\n",
    "a = 'this cup now belong\\'s to INDIA'\n",
    "a"
   ]
  },
  {
   "cell_type": "code",
   "execution_count": 12,
   "id": "bedcdf5b",
   "metadata": {},
   "outputs": [
    {
     "name": "stdout",
     "output_type": "stream",
     "text": [
      "a\n",
      "b\n",
      "a\tb\n",
      "c\n"
     ]
    }
   ],
   "source": [
    "# escaping character\n",
    "print ('a\\nb') # new line\n",
    "print ('a\\tb') # tab/ four spaces\n",
    "print ('ab\\rc') # moves the curser to start of the line"
   ]
  },
  {
   "cell_type": "markdown",
   "id": "7e3612c3",
   "metadata": {},
   "source": [
    "### raw-string and format-string \n",
    "* reading everything in a raw format.\n",
    "* a special type of string that allows you to include backslashes (\\) without interpreting them an escape sequences."
   ]
  },
  {
   "cell_type": "code",
   "execution_count": 13,
   "id": "b746a96c",
   "metadata": {},
   "outputs": [
    {
     "name": "stdout",
     "output_type": "stream",
     "text": [
      "c:\u0007bc\n",
      "ewfolder\\j.jpg\n",
      "c:\\abc\\newfolder\\j.jpg\n",
      "c:\\abc\\new folder\\j.jpg\n"
     ]
    }
   ],
   "source": [
    "#r-strings\n",
    "print ('c:\\abc\\newfolder\\j.jpg') # compilers error\n",
    "print ('c:\\\\abc\\\\newfolder\\\\j.jpg') # alternative method of printing\n",
    "print (r'c:\\abc\\new folder\\j.jpg') # using r string"
   ]
  },
  {
   "cell_type": "code",
   "execution_count": 16,
   "id": "f782b1ba",
   "metadata": {},
   "outputs": [
    {
     "name": "stdout",
     "output_type": "stream",
     "text": [
      "the volume of a cyl, whose radius is 5 whose h is is 550.0\n",
      "the vol of cyl whose r and h are 5 and 7 respectively is 550.0\n"
     ]
    }
   ],
   "source": [
    "r, h = 5,7\n",
    "vol = (22/7)*(r**2)*h\n",
    "print('the volume of a cyl, whose radius is', r, 'whose h is', 'is', vol)\n",
    "print(f'the vol of cyl whose r and h are {r} and {h} respectively is {vol}')"
   ]
  },
  {
   "cell_type": "code",
   "execution_count": 19,
   "id": "aee964b7",
   "metadata": {},
   "outputs": [
    {
     "name": "stdout",
     "output_type": "stream",
     "text": [
      "a sphere with diameter 10 cms, volume will be 523.8095238095237 cubic cms\n"
     ]
    }
   ],
   "source": [
    "# f-string example\n",
    "print(f'a sphere with diameter {10} cms, volume will be {(22/7)*((10/2)**3)*(4/3)} cubic cms')"
   ]
  },
  {
   "cell_type": "markdown",
   "id": "61aa18fd",
   "metadata": {},
   "source": [
    "## strings can be indexed (or) string indexing\n",
    "* strings can be indexed: \"indexing means reffering to an element of an iterable by its position with its position within the iterable.\n",
    "* since strings are sequence of chars, and this seq has an indexing value.\n",
    "* indexing is of two types:\n",
    "-> accessing characters by positive index number\n",
    "-> accessing characters by negative index numbers"
   ]
  },
  {
   "cell_type": "markdown",
   "id": "7ee165be",
   "metadata": {},
   "source": [
    "#### positive indexing\n",
    "* since strings are sequence of chars, and this seq has an order. we can access individual chars by their index or position in that seq enclose in [].\n",
    "         x = 'python'\n",
    "* string x has a len of 6, (len of string is equals to the number of chars in that string) the first index is 0 (indexing in python starts with 0) \n",
    "* positive indexing \n",
    "* 'python' (len 6)\n",
    " * p y t h o n\n",
    " * 0 1 2 3 4 5"
   ]
  },
  {
   "cell_type": "markdown",
   "id": "b74c6dd9",
   "metadata": {},
   "source": [
    "* in positive indexing, we move from left to right and thr start index is '0'and the end index is 'n-1', where n is len of the string."
   ]
  },
  {
   "cell_type": "code",
   "execution_count": 2,
   "id": "3bbfcdb8",
   "metadata": {},
   "outputs": [
    {
     "name": "stdout",
     "output_type": "stream",
     "text": [
      "h\n"
     ]
    }
   ],
   "source": [
    "x = 'python'\n",
    "print (x[3]) # accessing 'h we using positive indexing (left to right starts with 0 a......)"
   ]
  },
  {
   "cell_type": "markdown",
   "id": "a295e8fa",
   "metadata": {},
   "source": [
    "#### negative indexing (backward direction indexing)\n",
    "* we can also access the chars in a string using negative indexing.\n",
    "* in negative indexing, we move from right to left and thr start index -1 and the end index is -n, where n is len of the string.\n",
    "*  p  y  t  h  o  n\n",
    "* -6 -5 -4 -3 -2 -1"
   ]
  },
  {
   "cell_type": "code",
   "execution_count": 3,
   "id": "bc7fbdfe",
   "metadata": {
    "scrolled": true
   },
   "outputs": [
    {
     "name": "stdout",
     "output_type": "stream",
     "text": [
      "h\n"
     ]
    }
   ],
   "source": [
    "# negative indexing\n",
    "print (x[-3]) # accessing 'h' using negative indexing"
   ]
  },
  {
   "cell_type": "markdown",
   "id": "4796f410",
   "metadata": {},
   "source": [
    "### slicing\n",
    "* slicing is the extraction of a part of sequence, such as string, list, or tuple.\n",
    "* you can slice a sequence by specifying the below start & stop indices separated by a colon [:]\n",
    "* syntax: object(start:end:step_size)\n",
    "* \"start\" specifies the starting index of a slice\n",
    "* \"end\" specifies the ending element of a slice -1. it tells us which index the slicing has to happen, (we are not going to include char at end_index)\n",
    "* \"step_size\" specifies about how many steps it has to move while performing the slicing. by default, step_size is +1.\n",
    "\n",
    "syntax for slicing:\n",
    "* var[start_index: end_index:step_size]"
   ]
  },
  {
   "cell_type": "code",
   "execution_count": 4,
   "id": "3dce0e00",
   "metadata": {},
   "outputs": [
    {
     "name": "stdout",
     "output_type": "stream",
     "text": [
      "40\n",
      "i am not sure\n",
      "i am not sure what to take as an example\n",
      "ia o uewa otk sa xml\n",
      "i am not sure what to take as an example\n",
      "i am not sure what to take as an example\n",
      "what\n"
     ]
    }
   ],
   "source": [
    "#example\n",
    "x = 'i am not sure what to take as an example'\n",
    "print (len(x))\n",
    "print (x[0:13])\n",
    "print (x[0:41])\n",
    "print (x[0:41:2])\n",
    "print (x[0:41:1])\n",
    "print (x[::])\n",
    "print (x[14:18])"
   ]
  },
  {
   "cell_type": "code",
   "execution_count": 25,
   "id": "f5dc3e52",
   "metadata": {},
   "outputs": [
    {
     "name": "stdout",
     "output_type": "stream",
     "text": [
      "abc def\n",
      "xyz\n"
     ]
    }
   ],
   "source": [
    "print ('abc', 'def')\n",
    "print ('xyz')"
   ]
  },
  {
   "cell_type": "code",
   "execution_count": 28,
   "id": "d87f170c",
   "metadata": {},
   "outputs": [
    {
     "name": "stdout",
     "output_type": "stream",
     "text": [
      "python\n",
      "nohtyp\n"
     ]
    }
   ],
   "source": [
    "x = 'python'\n",
    "print (x)\n",
    "print (c)"
   ]
  },
  {
   "cell_type": "code",
   "execution_count": 29,
   "id": "89f4498a",
   "metadata": {},
   "outputs": [
    {
     "data": {
      "text/plain": [
       "'nohtyp'"
      ]
     },
     "execution_count": 29,
     "metadata": {},
     "output_type": "execute_result"
    }
   ],
   "source": [
    "x[::-1]"
   ]
  },
  {
   "cell_type": "code",
   "execution_count": 30,
   "id": "779c9f7e",
   "metadata": {},
   "outputs": [
    {
     "data": {
      "text/plain": [
       "'nohtyp'"
      ]
     },
     "execution_count": 30,
     "metadata": {},
     "output_type": "execute_result"
    }
   ],
   "source": [
    "x[-1:-7:-1]"
   ]
  },
  {
   "cell_type": "code",
   "execution_count": 35,
   "id": "99e2ff2a",
   "metadata": {},
   "outputs": [
    {
     "data": {
      "text/plain": [
       "'python'"
      ]
     },
     "execution_count": 35,
     "metadata": {},
     "output_type": "execute_result"
    }
   ],
   "source": [
    "x"
   ]
  },
  {
   "cell_type": "code",
   "execution_count": 32,
   "id": "cb93db12",
   "metadata": {},
   "outputs": [
    {
     "data": {
      "text/plain": [
       "'noht'"
      ]
     },
     "execution_count": 32,
     "metadata": {},
     "output_type": "execute_result"
    }
   ],
   "source": [
    "x[-1:-5:-1]"
   ]
  },
  {
   "cell_type": "code",
   "execution_count": 33,
   "id": "83239ffa",
   "metadata": {},
   "outputs": [
    {
     "data": {
      "text/plain": [
       "'nohty'"
      ]
     },
     "execution_count": 33,
     "metadata": {},
     "output_type": "execute_result"
    }
   ],
   "source": [
    "x[-1:-6:-1]"
   ]
  },
  {
   "cell_type": "code",
   "execution_count": 45,
   "id": "a757025e",
   "metadata": {},
   "outputs": [
    {
     "data": {
      "text/plain": [
       "'nohtyp'"
      ]
     },
     "execution_count": 45,
     "metadata": {},
     "output_type": "execute_result"
    }
   ],
   "source": [
    "x[6::-1]"
   ]
  },
  {
   "cell_type": "code",
   "execution_count": 46,
   "id": "73aa19fa",
   "metadata": {},
   "outputs": [
    {
     "data": {
      "text/plain": [
       "'nohty'"
      ]
     },
     "execution_count": 46,
     "metadata": {},
     "output_type": "execute_result"
    }
   ],
   "source": [
    "x[6:0:-1]"
   ]
  },
  {
   "cell_type": "markdown",
   "id": "d0a4455b",
   "metadata": {},
   "source": [
    "### string concatenation\n",
    "adding two or more values"
   ]
  },
  {
   "cell_type": "code",
   "execution_count": 6,
   "id": "cf6aa93e",
   "metadata": {},
   "outputs": [
    {
     "data": {
      "text/plain": [
       "'innominds'"
      ]
     },
     "execution_count": 6,
     "metadata": {},
     "output_type": "execute_result"
    }
   ],
   "source": [
    "# to add 2 variables\n",
    "a,b = 'inno', 'minds'\n",
    "c= a+b\n",
    "c"
   ]
  },
  {
   "cell_type": "code",
   "execution_count": 9,
   "id": "137ba6ab",
   "metadata": {},
   "outputs": [
    {
     "data": {
      "text/plain": [
       "'innomindsinnomindsinnominds'"
      ]
     },
     "execution_count": 9,
     "metadata": {},
     "output_type": "execute_result"
    }
   ],
   "source": [
    "c*3"
   ]
  },
  {
   "cell_type": "code",
   "execution_count": 4,
   "id": "257c8f8a",
   "metadata": {},
   "outputs": [
    {
     "name": "stdout",
     "output_type": "stream",
     "text": [
      "sathwika suggala\n",
      "20\n"
     ]
    }
   ],
   "source": [
    "# to add a space between them, add a \" \"\n",
    "a = \"sathwika\"\n",
    "b = \"suggala\"\n",
    "c = a+ \" \" +b\n",
    "# integer\n",
    "print (c)\n",
    "x = 10\n",
    "y =10\n",
    "print (x + y)"
   ]
  },
  {
   "cell_type": "code",
   "execution_count": 7,
   "id": "03d75c62",
   "metadata": {},
   "outputs": [
    {
     "data": {
      "text/plain": [
       "'innomindsinnomindsinnominds'"
      ]
     },
     "execution_count": 7,
     "metadata": {},
     "output_type": "execute_result"
    }
   ],
   "source": [
    "c*3 # c+c+c"
   ]
  },
  {
   "cell_type": "code",
   "execution_count": 12,
   "id": "9d55db3d",
   "metadata": {},
   "outputs": [],
   "source": [
    "c *=3\n"
   ]
  },
  {
   "cell_type": "markdown",
   "id": "d756f96e",
   "metadata": {},
   "source": [
    "## string class"
   ]
  },
  {
   "cell_type": "markdown",
   "id": "6712286c",
   "metadata": {},
   "source": [
    "### Ascii values\n",
    "* (American Standard Code for Information Interchange) is a standard encoding used in telecommunication.\n",
    "* ascii codes are used to represent the alphanumeric data.\n",
    "* ascii value will be lies in 65 to 91\n",
    "* The issue with ASCII is that its character set is far too small to support all of the world's languages, dialects, symbols, and glyphs. (It's insufficiently large for English only.)\n",
    "* capital letters are ascii\n",
    "* A -> a ->32\n",
    "* x = 'apple'\n",
    "* ord('APPLE')-> ascii\n",
    "* the object of 'apple' comes under class string."
   ]
  },
  {
   "cell_type": "markdown",
   "id": "7c80e28c",
   "metadata": {},
   "source": [
    "### unicodes\n",
    "* small letters is unicode\n",
    "* The basic function of Unicode is the same as that of ASCII but unicode only covers a far larger range of code points.\n",
    "* A -> a ->32\n",
    "* x = 'apple'\n",
    "* char ('apple')-> unicode\n",
    "* the object of 'apple' comes under class string."
   ]
  },
  {
   "cell_type": "markdown",
   "id": "5cab234d",
   "metadata": {},
   "source": [
    "### class\n",
    "* classes are blueprint or prototype of an object.\n",
    "* classes provides a bundling data and functionality together.\n",
    "* A new object type is created when a new class is created. This allows the creation of new instances of that type. For the purpose of preserving its state, each class instance may have attributes connected to it.\n",
    "* the class instances also have methods for modifying their states."
   ]
  },
  {
   "cell_type": "code",
   "execution_count": 47,
   "id": "ad664fa5",
   "metadata": {},
   "outputs": [
    {
     "name": "stdout",
     "output_type": "stream",
     "text": [
      "{'a': 'animal', 'b': 'place', 'c': 'thing'}\n",
      "{'a': 'animal', 'b': 'place', 'c': 'thing'} <class 'dict'>\n"
     ]
    }
   ],
   "source": [
    "x = {'a': 'name', 'b':'place', 'c': 'thing', 'a': 'animal' }\n",
    "print (x) #dictionary does not have duplicates (repeated values)\n",
    "print(x, type(x))"
   ]
  },
  {
   "cell_type": "code",
   "execution_count": 48,
   "id": "d3cf1c01",
   "metadata": {},
   "outputs": [
    {
     "name": "stdout",
     "output_type": "stream",
     "text": [
      "261 <class 'int'>\n"
     ]
    }
   ],
   "source": [
    "x = 261\n",
    "print(x, type(x)) #x - dict "
   ]
  },
  {
   "cell_type": "markdown",
   "id": "fee07a9a",
   "metadata": {},
   "source": [
    "### class in strings\n",
    "* The String class represents character strings.\n",
    "* All string literals in Java programs, such as \"abc\" , are implemented as instances of this class.\n",
    "* Strings are constant; their values cannot be changed after they are created."
   ]
  },
  {
   "cell_type": "code",
   "execution_count": 51,
   "id": "0ec7ccc3",
   "metadata": {},
   "outputs": [
    {
     "name": "stdout",
     "output_type": "stream",
     "text": [
      "python\n",
      "<class 'str'>\n"
     ]
    }
   ],
   "source": [
    "x = 'python'\n",
    "print (x)\n",
    "print (type(x)) #str is a class"
   ]
  },
  {
   "cell_type": "code",
   "execution_count": 21,
   "id": "a08ee9ca",
   "metadata": {},
   "outputs": [
    {
     "name": "stdout",
     "output_type": "stream",
     "text": [
      "PYTHON\n"
     ]
    },
    {
     "data": {
      "text/plain": [
       "'python'"
      ]
     },
     "execution_count": 21,
     "metadata": {},
     "output_type": "execute_result"
    }
   ],
   "source": [
    "x = 'PYTHON'\n",
    "print (x)\n",
    "x.lower()"
   ]
  },
  {
   "cell_type": "code",
   "execution_count": 27,
   "id": "b6fa4957",
   "metadata": {},
   "outputs": [
    {
     "data": {
      "text/plain": [
       "'apple'"
      ]
     },
     "execution_count": 27,
     "metadata": {},
     "output_type": "execute_result"
    }
   ],
   "source": [
    "str.upper\n",
    "'apple'"
   ]
  },
  {
   "cell_type": "code",
   "execution_count": 28,
   "id": "e938712b",
   "metadata": {},
   "outputs": [
    {
     "data": {
      "text/plain": [
       "'apple'"
      ]
     },
     "execution_count": 28,
     "metadata": {},
     "output_type": "execute_result"
    }
   ],
   "source": [
    "str.lower \n",
    "'apple'"
   ]
  },
  {
   "cell_type": "markdown",
   "id": "0614ad96",
   "metadata": {},
   "source": [
    "### object"
   ]
  },
  {
   "cell_type": "markdown",
   "id": "bf217f86",
   "metadata": {},
   "source": [
    "An Object is an instance of a Class. A class is like a blueprint while an instance is a copy of the class with actual values\n",
    "\n",
    "* State: It is represented by the attributes of an object. It also reflects the properties of an object.\n",
    "* Behavior: It is represented by the methods of an object. It also reflects the response of an object to other objects.\n",
    "* Identity: It gives a unique name to an object and enables one object to interact with other objects."
   ]
  },
  {
   "cell_type": "markdown",
   "id": "0e7e2a58",
   "metadata": {},
   "source": [
    "## string methods\n",
    "* strings are <u>** 'immutable'** <\\u>, the resulting strings from string methods have a new memory location\n",
    "* in order to use these strings, we need reassing it to a var."
   ]
  },
  {
   "cell_type": "code",
   "execution_count": 52,
   "id": "6cee5b2f",
   "metadata": {},
   "outputs": [
    {
     "name": "stdout",
     "output_type": "stream",
     "text": [
      "['__add__', '__class__', '__contains__', '__delattr__', '__dir__', '__doc__', '__eq__', '__format__', '__ge__', '__getattribute__', '__getitem__', '__getnewargs__', '__getstate__', '__gt__', '__hash__', '__init__', '__init_subclass__', '__iter__', '__le__', '__len__', '__lt__', '__mod__', '__mul__', '__ne__', '__new__', '__reduce__', '__reduce_ex__', '__repr__', '__rmod__', '__rmul__', '__setattr__', '__sizeof__', '__str__', '__subclasshook__', 'capitalize', 'casefold', 'center', 'count', 'encode', 'endswith', 'expandtabs', 'find', 'format', 'format_map', 'index', 'isalnum', 'isalpha', 'isascii', 'isdecimal', 'isdigit', 'isidentifier', 'islower', 'isnumeric', 'isprintable', 'isspace', 'istitle', 'isupper', 'join', 'ljust', 'lower', 'lstrip', 'maketrans', 'partition', 'removeprefix', 'removesuffix', 'replace', 'rfind', 'rindex', 'rjust', 'rpartition', 'rsplit', 'rstrip', 'split', 'splitlines', 'startswith', 'strip', 'swapcase', 'title', 'translate', 'upper', 'zfill']\n"
     ]
    }
   ],
   "source": [
    "print(dir(str)) # all the methods present in class"
   ]
  },
  {
   "cell_type": "markdown",
   "id": "d33c20c8",
   "metadata": {},
   "source": [
    "### upper case()"
   ]
  },
  {
   "cell_type": "code",
   "execution_count": 53,
   "id": "96bc6094",
   "metadata": {},
   "outputs": [
    {
     "data": {
      "text/plain": [
       "\"'i scream you scream we all scream for icecream'\""
      ]
     },
     "execution_count": 53,
     "metadata": {},
     "output_type": "execute_result"
    }
   ],
   "source": [
    "x = \"'i scream you scream we all scream for icecream'\"\n",
    "x"
   ]
  },
  {
   "cell_type": "code",
   "execution_count": 48,
   "id": "fd7ac791",
   "metadata": {},
   "outputs": [
    {
     "data": {
      "text/plain": [
       "2222370002000"
      ]
     },
     "execution_count": 48,
     "metadata": {},
     "output_type": "execute_result"
    }
   ],
   "source": [
    "id(x)"
   ]
  },
  {
   "cell_type": "code",
   "execution_count": 30,
   "id": "ee374a02",
   "metadata": {},
   "outputs": [
    {
     "data": {
      "text/plain": [
       "['__add__',\n",
       " '__class__',\n",
       " '__contains__',\n",
       " '__delattr__',\n",
       " '__dir__',\n",
       " '__doc__',\n",
       " '__eq__',\n",
       " '__format__',\n",
       " '__ge__',\n",
       " '__getattribute__',\n",
       " '__getitem__',\n",
       " '__getnewargs__',\n",
       " '__getstate__',\n",
       " '__gt__',\n",
       " '__hash__',\n",
       " '__init__',\n",
       " '__init_subclass__',\n",
       " '__iter__',\n",
       " '__le__',\n",
       " '__len__',\n",
       " '__lt__',\n",
       " '__mod__',\n",
       " '__mul__',\n",
       " '__ne__',\n",
       " '__new__',\n",
       " '__reduce__',\n",
       " '__reduce_ex__',\n",
       " '__repr__',\n",
       " '__rmod__',\n",
       " '__rmul__',\n",
       " '__setattr__',\n",
       " '__sizeof__',\n",
       " '__str__',\n",
       " '__subclasshook__',\n",
       " 'capitalize',\n",
       " 'casefold',\n",
       " 'center',\n",
       " 'count',\n",
       " 'encode',\n",
       " 'endswith',\n",
       " 'expandtabs',\n",
       " 'find',\n",
       " 'format',\n",
       " 'format_map',\n",
       " 'index',\n",
       " 'isalnum',\n",
       " 'isalpha',\n",
       " 'isascii',\n",
       " 'isdecimal',\n",
       " 'isdigit',\n",
       " 'isidentifier',\n",
       " 'islower',\n",
       " 'isnumeric',\n",
       " 'isprintable',\n",
       " 'isspace',\n",
       " 'istitle',\n",
       " 'isupper',\n",
       " 'join',\n",
       " 'ljust',\n",
       " 'lower',\n",
       " 'lstrip',\n",
       " 'maketrans',\n",
       " 'partition',\n",
       " 'removeprefix',\n",
       " 'removesuffix',\n",
       " 'replace',\n",
       " 'rfind',\n",
       " 'rindex',\n",
       " 'rjust',\n",
       " 'rpartition',\n",
       " 'rsplit',\n",
       " 'rstrip',\n",
       " 'split',\n",
       " 'splitlines',\n",
       " 'startswith',\n",
       " 'strip',\n",
       " 'swapcase',\n",
       " 'title',\n",
       " 'translate',\n",
       " 'upper',\n",
       " 'zfill']"
      ]
     },
     "execution_count": 30,
     "metadata": {},
     "output_type": "execute_result"
    }
   ],
   "source": [
    "dir(x) #the method which are predefined."
   ]
  },
  {
   "cell_type": "code",
   "execution_count": 54,
   "id": "4bf74b7e",
   "metadata": {},
   "outputs": [
    {
     "data": {
      "text/plain": [
       "\"'I SCREAM YOU SCREAM WE ALL SCREAM FOR ICECREAM'\""
      ]
     },
     "execution_count": 54,
     "metadata": {},
     "output_type": "execute_result"
    }
   ],
   "source": [
    "x.upper()"
   ]
  },
  {
   "cell_type": "code",
   "execution_count": 55,
   "id": "a19ccd49",
   "metadata": {},
   "outputs": [
    {
     "name": "stdout",
     "output_type": "stream",
     "text": [
      "'i scream you scream we all scream for icecream' \n",
      "\n"
     ]
    },
    {
     "data": {
      "text/plain": [
       "\"'I SCREAM YOU SCREAM WE ALL SCREAM FOR ICECREAM'\""
      ]
     },
     "execution_count": 55,
     "metadata": {},
     "output_type": "execute_result"
    }
   ],
   "source": [
    "print (x,'\\n')\n",
    "x.upper()"
   ]
  },
  {
   "cell_type": "markdown",
   "id": "ca9ab9be",
   "metadata": {},
   "source": [
    "### lowercase ()\n",
    "* this method changes all the characters in a string to lowercase or small letters"
   ]
  },
  {
   "cell_type": "code",
   "execution_count": 51,
   "id": "33e8e701",
   "metadata": {},
   "outputs": [
    {
     "data": {
      "text/plain": [
       "\"'i scream you scream we all scream for icecream'\""
      ]
     },
     "execution_count": 51,
     "metadata": {},
     "output_type": "execute_result"
    }
   ],
   "source": [
    "xu=x.lower()\n",
    "xu"
   ]
  },
  {
   "cell_type": "code",
   "execution_count": 52,
   "id": "679a72c9",
   "metadata": {},
   "outputs": [
    {
     "data": {
      "text/plain": [
       "\"'i scream you scream we all scream for icecream'\""
      ]
     },
     "execution_count": 52,
     "metadata": {},
     "output_type": "execute_result"
    }
   ],
   "source": [
    "xu.lower()"
   ]
  },
  {
   "cell_type": "code",
   "execution_count": 55,
   "id": "dd0ecb02",
   "metadata": {},
   "outputs": [
    {
     "data": {
      "text/plain": [
       "\"'i scream you scream we all scream for icecream'\""
      ]
     },
     "execution_count": 55,
     "metadata": {},
     "output_type": "execute_result"
    }
   ],
   "source": [
    "xl = xu.lower()\n",
    "xl"
   ]
  },
  {
   "cell_type": "code",
   "execution_count": 56,
   "id": "98db8d00",
   "metadata": {},
   "outputs": [
    {
     "data": {
      "text/plain": [
       "\"'i scream you scream we all scream for icecream'\""
      ]
     },
     "execution_count": 56,
     "metadata": {},
     "output_type": "execute_result"
    }
   ],
   "source": [
    "xl"
   ]
  },
  {
   "cell_type": "code",
   "execution_count": 56,
   "id": "bbdde717",
   "metadata": {},
   "outputs": [
    {
     "data": {
      "text/plain": [
       "3077820639760"
      ]
     },
     "execution_count": 56,
     "metadata": {},
     "output_type": "execute_result"
    }
   ],
   "source": [
    "id(xl)"
   ]
  },
  {
   "cell_type": "markdown",
   "id": "793ac0d2",
   "metadata": {},
   "source": [
    "### capitalize ()\n",
    "* this method returns a string where the first character is upper case, and the rest is lower case."
   ]
  },
  {
   "cell_type": "code",
   "execution_count": 14,
   "id": "959098a1",
   "metadata": {},
   "outputs": [
    {
     "data": {
      "text/plain": [
       "'im decided to play harmonica'"
      ]
     },
     "execution_count": 14,
     "metadata": {},
     "output_type": "execute_result"
    }
   ],
   "source": [
    "xu = 'im decided to play harmonica'\n",
    "xu"
   ]
  },
  {
   "cell_type": "code",
   "execution_count": 15,
   "id": "154b8501",
   "metadata": {},
   "outputs": [
    {
     "data": {
      "text/plain": [
       "'Im decided to play harmonica'"
      ]
     },
     "execution_count": 15,
     "metadata": {},
     "output_type": "execute_result"
    }
   ],
   "source": [
    "xu.capitalize() #capitalize"
   ]
  },
  {
   "cell_type": "markdown",
   "id": "7e4293b3",
   "metadata": {},
   "source": [
    "### title()\n",
    "* this title string is used to convert first character in each word to uppercase() and remaining chars to lower case.\n",
    "* it converts string into titlecase\n",
    "* the first alphabet of every word starts with capital letter.\n",
    "* syntax - string.title()"
   ]
  },
  {
   "cell_type": "code",
   "execution_count": 20,
   "id": "6a0d5d4a",
   "metadata": {},
   "outputs": [
    {
     "name": "stdout",
     "output_type": "stream",
     "text": [
      "Help on built-in function title:\n",
      "\n",
      "title() method of builtins.str instance\n",
      "    Return a version of the string where each word is titlecased.\n",
      "    \n",
      "    More specifically, words start with uppercased characters and all remaining\n",
      "    cased characters have lower case.\n",
      "\n"
     ]
    }
   ],
   "source": [
    "help(str.title)"
   ]
  },
  {
   "cell_type": "code",
   "execution_count": 2,
   "id": "2dc39c66",
   "metadata": {},
   "outputs": [
    {
     "data": {
      "text/plain": [
       "'I Play Harmonica'"
      ]
     },
     "execution_count": 2,
     "metadata": {},
     "output_type": "execute_result"
    }
   ],
   "source": [
    "#syntax\n",
    "# example 1\n",
    "str= 'i play harmonica' \n",
    "str.title()"
   ]
  },
  {
   "cell_type": "code",
   "execution_count": 10,
   "id": "31f8ab71",
   "metadata": {
    "scrolled": true
   },
   "outputs": [
    {
     "name": "stdout",
     "output_type": "stream",
     "text": [
      "123Abc !Def Zx 1234!!\n"
     ]
    }
   ],
   "source": [
    "pw = \"123abc !def zx 1234!!\" \n",
    "pw.title() # converts first aplhabet in every word\n",
    "xl = pw.title()\n",
    "print (xl)"
   ]
  },
  {
   "cell_type": "markdown",
   "id": "2ea1ee56",
   "metadata": {},
   "source": [
    "### swap case()\n",
    "* swap case can swap from the lower letters to upper letters.\n",
    "* also upper letters are swapable with lower letters."
   ]
  },
  {
   "cell_type": "code",
   "execution_count": 23,
   "id": "f9f2e080",
   "metadata": {},
   "outputs": [
    {
     "data": {
      "text/plain": [
       "'ECCEDENTESIAST'"
      ]
     },
     "execution_count": 23,
     "metadata": {},
     "output_type": "execute_result"
    }
   ],
   "source": [
    "# swap case()\n",
    "xt = 'eccedentesiast'\n",
    "xt.swapcase() "
   ]
  },
  {
   "cell_type": "code",
   "execution_count": 24,
   "id": "04b01bf0",
   "metadata": {},
   "outputs": [
    {
     "data": {
      "text/plain": [
       "'ECCEDENTESIAST'"
      ]
     },
     "execution_count": 24,
     "metadata": {},
     "output_type": "execute_result"
    }
   ],
   "source": [
    "xsc = xt.swapcase()\n",
    "xsc"
   ]
  },
  {
   "cell_type": "code",
   "execution_count": 25,
   "id": "2f75848a",
   "metadata": {},
   "outputs": [
    {
     "name": "stdout",
     "output_type": "stream",
     "text": [
      "Help on built-in function swapcase:\n",
      "\n",
      "swapcase() method of builtins.str instance\n",
      "    Convert uppercase characters to lowercase and lowercase characters to uppercase.\n",
      "\n"
     ]
    }
   ],
   "source": [
    "help(xsc.swapcase)"
   ]
  },
  {
   "cell_type": "markdown",
   "id": "5425e0db",
   "metadata": {},
   "source": [
    "### casefold()\n",
    "* it acts as unicode level\n",
    "* all the string characters in casefold method are lower case\n"
   ]
  },
  {
   "cell_type": "code",
   "execution_count": 17,
   "id": "6cd2a73e",
   "metadata": {},
   "outputs": [
    {
     "data": {
      "text/plain": [
       "('german is in β', 'german is in β')"
      ]
     },
     "execution_count": 17,
     "metadata": {},
     "output_type": "execute_result"
    }
   ],
   "source": [
    "s = 'german is in β'\n",
    "s.lower(), s.casefold() "
   ]
  },
  {
   "cell_type": "code",
   "execution_count": 27,
   "id": "bf132d25",
   "metadata": {},
   "outputs": [
    {
     "name": "stdout",
     "output_type": "stream",
     "text": [
      "hfβgfkd fhghdfkjdshfkj hgkshfkjdf\n"
     ]
    }
   ],
   "source": [
    "z = 'hfβgfkd fhghdfkjdshfkj hgkshfkjdf'\n",
    "print(z)"
   ]
  },
  {
   "cell_type": "code",
   "execution_count": 28,
   "id": "13095642",
   "metadata": {},
   "outputs": [
    {
     "data": {
      "text/plain": [
       "'hfβgfkd fhghdfkjdshfkj hgkshfkjdf'"
      ]
     },
     "execution_count": 28,
     "metadata": {},
     "output_type": "execute_result"
    }
   ],
   "source": [
    "z.casefold()"
   ]
  },
  {
   "cell_type": "code",
   "execution_count": 14,
   "id": "33cdb04d",
   "metadata": {},
   "outputs": [
    {
     "name": "stdout",
     "output_type": "stream",
     "text": [
      "Help on built-in function casefold:\n",
      "\n",
      "casefold() method of builtins.str instance\n",
      "    Return a version of the string suitable for caseless comparisons.\n",
      "\n"
     ]
    }
   ],
   "source": [
    "help(s.casefold)"
   ]
  },
  {
   "cell_type": "code",
   "execution_count": null,
   "id": "86c0cff0",
   "metadata": {},
   "outputs": [],
   "source": []
  }
 ],
 "metadata": {
  "kernelspec": {
   "display_name": "Python 3 (ipykernel)",
   "language": "python",
   "name": "python3"
  },
  "language_info": {
   "codemirror_mode": {
    "name": "ipython",
    "version": 3
   },
   "file_extension": ".py",
   "mimetype": "text/x-python",
   "name": "python",
   "nbconvert_exporter": "python",
   "pygments_lexer": "ipython3",
   "version": "3.11.5"
  }
 },
 "nbformat": 4,
 "nbformat_minor": 5
}
